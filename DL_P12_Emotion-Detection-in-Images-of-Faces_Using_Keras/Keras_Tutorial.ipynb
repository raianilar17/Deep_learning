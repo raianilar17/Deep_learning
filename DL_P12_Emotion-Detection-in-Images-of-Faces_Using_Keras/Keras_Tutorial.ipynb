{
 "cells": [
  {
   "cell_type": "markdown",
   "metadata": {},
   "source": [
    "# Keras tutorial - Emotion Detection in Images of Faces\n",
    "\n",
    "Welcome to the project. In this project, I :\n",
    "1. Learnt to use Keras, a high-level neural networks API (programming framework), written in Python and capable of running on top of several lower-level frameworks including TensorFlow and CNTK. \n",
    "2. Saw how we could in a couple of hours build a deep learning algorithm.\n",
    "\n",
    "#### Why are we using Keras? \n",
    "\n",
    "* Keras was developed to enable deep learning engineers to build and experiment with different models very quickly. \n",
    "* Just as TensorFlow is a higher-level framework than Python, Keras is an even higher-level framework and provides additional abstractions. \n",
    "* Being able to go from idea to result with the least possible delay is key to finding good models. \n",
    "* However, Keras is more restrictive than the lower-level frameworks, so there are some very complex models that we would still implement in TensorFlow rather than in Keras. \n",
    "* That being said, Keras will work fine for many common models. \n",
    "\n",
    "* [Keras documentation](https://keras.io/about/)\n",
    "* [Keras API reference](https://keras.io/api/)"
   ]
  },
  {
   "cell_type": "markdown",
   "metadata": {},
   "source": [
    "## Load packages\n",
    "* In this project, I worked on the \"Emotion detection\" model, which I explained below. \n",
    "* Let's load the required packages."
   ]
  },
  {
   "cell_type": "code",
   "execution_count": 1,
   "metadata": {},
   "outputs": [
    {
     "name": "stderr",
     "output_type": "stream",
     "text": [
      "Using TensorFlow backend.\n"
     ]
    }
   ],
   "source": [
    "import numpy as np\n",
    "import keras \n",
    "from keras import layers\n",
    "from keras.layers import Input, Dense, Activation, ZeroPadding2D, BatchNormalization, Flatten, Conv2D\n",
    "from keras.layers import AveragePooling2D, MaxPooling2D, Dropout, GlobalMaxPooling2D, GlobalAveragePooling2D\n",
    "from keras.models import Model\n",
    "from keras.preprocessing import image\n",
    "from keras.utils import layer_utils\n",
    "from keras.utils.data_utils import get_file\n",
    "from keras.applications.imagenet_utils import preprocess_input\n",
    "import pydot\n",
    "from IPython.display import SVG\n",
    "from keras.utils.vis_utils import model_to_dot\n",
    "from keras.utils import plot_model\n",
    "from kt_utils import *\n",
    "\n",
    "import keras.backend as K\n",
    "K.set_image_data_format('channels_last')\n",
    "import matplotlib.pyplot as plt\n",
    "from matplotlib.pyplot import imshow\n",
    "\n",
    "%matplotlib inline"
   ]
  },
  {
   "cell_type": "markdown",
   "metadata": {},
   "source": [
    "**Note**: As we can see, I've imported a lot of functions from Keras. We can use them by calling them directly in Our code. Ex: `X = Input(...)` or `X = ZeroPadding2D(...)`. \n",
    "\n",
    "In other words, unlike TensorFlow, We don't have to create the graph and then make a separate `sess.run()` call to evaluate those variables."
   ]
  },
  {
   "cell_type": "markdown",
   "metadata": {},
   "source": [
    "## 1 - Emotion Tracking\n",
    "\n",
    "* A nearby community health clinic is helping the local residents monitor their mental health.  \n",
    "* As part of their study, They are asking volunteers to record their emotions throughout the day.\n",
    "* To help the participants more easily track their emotions, I am asked to create an app that will classify their emotions based on some pictures that the volunteers will take of their facial expressions.\n",
    "* As a proof-of-concept, I first train my model to detect if someone's emotion is classified as \"happy\" or \"not happy.\"\n",
    "\n",
    "To build and train this model, I have gathered pictures of some volunteers in a nearby neighborhood. The dataset is labeled.\n",
    "<img src=\"images/face_images.png\" style=\"width:550px;height:250px;\">\n",
    "\n",
    "Run the following code to normalize the dataset and learn about its shapes."
   ]
  },
  {
   "cell_type": "code",
   "execution_count": 27,
   "metadata": {},
   "outputs": [
    {
     "name": "stdout",
     "output_type": "stream",
     "text": [
      "number of training examples = 600\n",
      "number of test examples = 150\n",
      "X_train shape: (600, 64, 64, 3)\n",
      "Y_train shape: (600, 1)\n",
      "X_test shape: (150, 64, 64, 3)\n",
      "Y_test shape: (150, 1)\n"
     ]
    }
   ],
   "source": [
    "#load_datasets\n",
    "X_train_orig, Y_train_orig, X_test_orig, Y_test_orig, classes = load_dataset()\n",
    "\n",
    "# Normalize image vectors\n",
    "X_train = X_train_orig/255.\n",
    "X_test = X_test_orig/255.\n",
    "\n",
    "# Reshape\n",
    "Y_train = Y_train_orig.T\n",
    "Y_test = Y_test_orig.T\n",
    "\n",
    "print (\"number of training examples = \" + str(X_train.shape[0]))\n",
    "print (\"number of test examples = \" + str(X_test.shape[0]))\n",
    "print (\"X_train shape: \" + str(X_train.shape))\n",
    "print (\"Y_train shape: \" + str(Y_train.shape))\n",
    "print (\"X_test shape: \" + str(X_test.shape))\n",
    "print (\"Y_test shape: \" + str(Y_test.shape))"
   ]
  },
  {
   "cell_type": "markdown",
   "metadata": {},
   "source": [
    "**Details of the \"Face\" dataset**:\n",
    "- Images are of shape (64,64,3)\n",
    "- Training: 600 pictures\n",
    "- Test: 150 pictures"
   ]
  },
  {
   "cell_type": "markdown",
   "metadata": {},
   "source": [
    "## 2 - Building a model in Keras\n",
    "\n",
    "Keras is very good for rapid prototyping. In just a short time we will be able to build a model that achieves outstanding results.\n",
    "\n",
    "Here is an example of a model in Keras:\n",
    "\n",
    "```python\n",
    "def model(input_shape):\n",
    "    \"\"\"\n",
    "    input_shape: The height, width and channels as a tuple.  \n",
    "        Note that this does not include the 'batch' as a dimension.\n",
    "        If you have a batch like 'X_train', \n",
    "        then you can provide the input_shape using\n",
    "        X_train.shape[1:]\n",
    "    \"\"\"\n",
    "    \n",
    "    # Define the input placeholder as a tensor with shape input_shape. Think of this as our input image!\n",
    "    X_input = Input(input_shape)\n",
    "\n",
    "    # Zero-Padding: pads the border of X_input with zeroes\n",
    "    X = ZeroPadding2D((3, 3))(X_input)\n",
    "\n",
    "    # CONV -> BN -> RELU Block applied to X\n",
    "    X = Conv2D(32, (7, 7), strides = (1, 1), name = 'conv0')(X)\n",
    "    X = BatchNormalization(axis = 3, name = 'bn0')(X)\n",
    "    X = Activation('relu')(X)\n",
    "\n",
    "    # MAXPOOL\n",
    "    X = MaxPooling2D((2, 2), name='max_pool')(X)\n",
    "\n",
    "    # FLATTEN X (means convert it to a vector) + FULLYCONNECTED\n",
    "    X = Flatten()(X)\n",
    "    X = Dense(1, activation='sigmoid', name='fc')(X)\n",
    "\n",
    "    # Create model.This creates our Keras model instance, I used this instance to train/test the model.\n",
    "    model = Model(inputs = X_input, outputs = X, name='HappyModel')\n",
    "    \n",
    "    return model\n",
    "```"
   ]
  },
  {
   "cell_type": "markdown",
   "metadata": {},
   "source": [
    "#### Variable naming convention\n",
    "\n",
    "* Note that Keras uses a different convention with variable names than I've previously used with numpy and TensorFlow. \n",
    "* Instead of creating unique variable names for each step and each layer, such as \n",
    "```\n",
    "X = ...\n",
    "Z1 = ...\n",
    "A1 = ...\n",
    "```\n",
    "* Keras re-uses and overwrites the same variable at each step:\n",
    "```\n",
    "X = ...\n",
    "X = ...\n",
    "X = ...\n",
    "```\n",
    "* The exception is `X_input`, which we kept separate since it's needed later."
   ]
  },
  {
   "cell_type": "markdown",
   "metadata": {},
   "source": [
    "#### Objects as functions\n",
    "* Notice how there are two pairs of parentheses in each statement.  For example:\n",
    "```\n",
    "X = ZeroPadding2D((3, 3))(X_input)\n",
    "```\n",
    "* The first is a constructor call which creates an object (ZeroPadding2D).\n",
    "* In Python, objects can be called as functions. Search for 'python object as function and you can read this blog post [Python Pandemonium](https://medium.com/python-pandemonium/function-as-objects-in-python-d5215e6d1b0d).  See the section titled \"Objects as functions.\"\n",
    "* The single line is equivalent to this:\n",
    "```\n",
    "ZP = ZeroPadding2D((3, 3)) # ZP is an object that can be called as a function\n",
    "X = ZP(X_input) \n",
    "```"
   ]
  },
  {
   "cell_type": "markdown",
   "metadata": {},
   "source": [
    "**Problem_1**: Implement a `HappyModel()`.  \n",
    "* This assignment is more open-ended than most. \n",
    "* Start by implementing a model using above mention the architecture, and run through the rest of this project using that as our initial model.\n",
    "* Later, I'll try out other model architectures. \n",
    "* For example, I took inspiration from the model above, but then vary the network architecture and hyperparameters however I wish. \n",
    "* I will also use other functions such as `AveragePooling2D()`, `GlobalMaxPooling2D()`, `Dropout()`. \n",
    "\n",
    "**Note**: Be careful with our data's shapes. Use what I've learned  to make sure my convolutional, pooling and fully-connected layers are adapted to the volumes I'm applying it to."
   ]
  },
  {
   "cell_type": "code",
   "execution_count": 38,
   "metadata": {},
   "outputs": [],
   "source": [
    "# FUNCTION: HappyModel\n",
    "\n",
    "def HappyModel(input_shape):\n",
    "    \"\"\"\n",
    "    Implementation of the HappyModel.\n",
    "    \n",
    "    Arguments:\n",
    "    input_shape -- shape of the images of the dataset\n",
    "        (height, width, channels) as a tuple.  \n",
    "        Note that this does not include the 'batch' as a dimension.\n",
    "        If you have a batch like 'X_train', \n",
    "        then you can provide the input_shape using\n",
    "        X_train.shape[1:]\n",
    "\n",
    "\n",
    "    Returns:\n",
    "    model -- a Model() instance in Keras\n",
    "    \"\"\"\n",
    "    \n",
    "    ### IMPORTANT_START CODE HERE ###\n",
    "    \n",
    "    \n",
    "    # Define the input placeholder as a tensor with shape input_shape. Think of this as our input image!\n",
    "    X_input = Input(input_shape)\n",
    "    \n",
    "    # Zero-Padding: pads the border of X_input with zeroes\n",
    "    X = ZeroPadding2D(padding = (3,3))(X_input)\n",
    "    \n",
    "    # CONV -> BN -> RELU Block applied to X\n",
    "    X = Conv2D(filters = 32, kernel_size = (7, 7), strides = (1, 1), name = 'conv0')(X)\n",
    "    X = BatchNormalization(axis = 3, name = 'bn0')(X)\n",
    "    X = Activation('relu')(X)\n",
    "    X = Dropout(rate=0.1, noise_shape=None, seed=None)(X)\n",
    "    \n",
    "    # MAXPOOL\n",
    "    X = MaxPooling2D(pool_size = (2, 2),strides = (2, 2), name = 'max_pool')(X)\n",
    "    \n",
    "    # FLATTEN X (means convert it to a vector) + FULLYCONNECTED\n",
    "    X = Flatten()(X)\n",
    "    X = Dense(units = 1, activation = 'sigmoid', name = 'fc')(X) #units: Positive integer, dimensionality of the output space.\n",
    "    \n",
    "    #print(X.shape)\n",
    "    # Create model. This creates your Keras model instance, you'll use this instance to train/test the model.\n",
    "    model = Model(inputs = X_input, outputs = X, name='HappyModel')\n",
    "    \n",
    "    ### IMPORTANT_END CODE HERE ###\n",
    "    \n",
    "    return model"
   ]
  },
  {
   "cell_type": "markdown",
   "metadata": {},
   "source": [
    "I built a function to describe my model. To train and test this model, there are four steps in Keras:\n",
    "\n",
    "1. Create the model by calling the function  \n",
    "\n",
    "2. Compile the model by calling `model.compile(optimizer = \"...\", loss = \"...\", metrics = [\"accuracy\"])`  \n",
    "\n",
    "3. Train the model on train data by calling `model.fit(x = ..., y = ..., epochs = ..., batch_size = ...)`  \n",
    "\n",
    "4. Test the model on test data by calling `model.evaluate(x = ..., y = ...)`  \n",
    "\n",
    "If you want to know more about `model.compile()`, `model.fit()`, `model.evaluate()` and their arguments, refer to the official [Keras documentation](https://keras.io/api/models/)."
   ]
  },
  {
   "cell_type": "markdown",
   "metadata": {},
   "source": [
    "#### Step 1: create the model.  \n",
    "**NOTE**:  \n",
    "The `input_shape` parameter is a tuple (height, width, channels).  It excludes the batch number.  \n",
    "Try `X_train.shape[1:]` as the `input_shape`."
   ]
  },
  {
   "cell_type": "code",
   "execution_count": 39,
   "metadata": {},
   "outputs": [],
   "source": [
    "### IMPORTANT_START CODE HERE ### (1 line)\n",
    "happyModel = HappyModel(X_train.shape[1:])\n",
    "### IMPORTANT_END CODE HERE ###"
   ]
  },
  {
   "cell_type": "markdown",
   "metadata": {},
   "source": [
    "#### Step 2: compile the model\n",
    "\n",
    "**NOTE**:  \n",
    "Optimizers I try include `'adam'`, `'sgd'` or others.  See the documentation for [optimizers](https://keras.io/optimizers/)  \n",
    "The \"happiness detection\" is a binary classification problem.  The loss function that you can use is `'binary_cross_entropy'`.  Note that `'categorical_cross_entropy'` won't work with your data set as its formatted, because the data is an array of 0 or 1 rather than two arrays (one for each category).  Documentation for [losses](https://keras.io/losses/)"
   ]
  },
  {
   "cell_type": "code",
   "execution_count": 40,
   "metadata": {},
   "outputs": [],
   "source": [
    "### IMPORTANT_START CODE HERE ### (1 line)\n",
    "happyModel.compile(loss = 'binary_crossentropy', optimizer = 'adam', metrics=['accuracy'])\n",
    "### IMPORTANT_END CODE HERE ###"
   ]
  },
  {
   "cell_type": "markdown",
   "metadata": {},
   "source": [
    "#### Step 3: train the model\n",
    "\n",
    "**Suggestion**:  \n",
    "Use the `'X_train'`, `'Y_train'` variables.  Use integers for the epochs and batch_size\n",
    "\n",
    "**Note**: If you run `fit()` again, the `model` will continue to train with the parameters it has already learned instead of reinitializing them."
   ]
  },
  {
   "cell_type": "code",
   "execution_count": 46,
   "metadata": {},
   "outputs": [
    {
     "name": "stdout",
     "output_type": "stream",
     "text": [
      "Train on 540 samples, validate on 60 samples\n",
      "Epoch 1/30\n",
      "540/540 [==============================] - 3s 6ms/step - loss: 0.0737 - accuracy: 0.9759 - val_loss: 0.0355 - val_accuracy: 0.9833\n",
      "Epoch 2/30\n",
      "540/540 [==============================] - 3s 6ms/step - loss: 0.0805 - accuracy: 0.9741 - val_loss: 0.0515 - val_accuracy: 1.0000\n",
      "Epoch 3/30\n",
      "540/540 [==============================] - 4s 7ms/step - loss: 0.1079 - accuracy: 0.9778 - val_loss: 0.0993 - val_accuracy: 0.9667\n",
      "Epoch 4/30\n",
      "540/540 [==============================] - 3s 6ms/step - loss: 0.1145 - accuracy: 0.9648 - val_loss: 0.4302 - val_accuracy: 0.8333\n",
      "Epoch 5/30\n",
      "540/540 [==============================] - 3s 6ms/step - loss: 0.0444 - accuracy: 0.9833 - val_loss: 0.7072 - val_accuracy: 0.7500\n",
      "Epoch 6/30\n",
      "540/540 [==============================] - 3s 6ms/step - loss: 0.0561 - accuracy: 0.9870 - val_loss: 0.0703 - val_accuracy: 0.9667\n",
      "Epoch 7/30\n",
      "540/540 [==============================] - 3s 6ms/step - loss: 0.0460 - accuracy: 0.9889 - val_loss: 0.0970 - val_accuracy: 0.9500\n",
      "Epoch 8/30\n",
      "540/540 [==============================] - 3s 6ms/step - loss: 0.0475 - accuracy: 0.9796 - val_loss: 0.1294 - val_accuracy: 0.9500\n",
      "Epoch 9/30\n",
      "540/540 [==============================] - 3s 6ms/step - loss: 0.1070 - accuracy: 0.9722 - val_loss: 0.0909 - val_accuracy: 0.9500\n",
      "Epoch 10/30\n",
      "540/540 [==============================] - 4s 7ms/step - loss: 0.0362 - accuracy: 0.9926 - val_loss: 0.1172 - val_accuracy: 0.9333\n",
      "Epoch 11/30\n",
      "540/540 [==============================] - 3s 6ms/step - loss: 0.0818 - accuracy: 0.9796 - val_loss: 0.3817 - val_accuracy: 0.8667\n",
      "Epoch 12/30\n",
      "540/540 [==============================] - 3s 6ms/step - loss: 0.0439 - accuracy: 0.9815 - val_loss: 0.0765 - val_accuracy: 0.9500\n",
      "Epoch 13/30\n",
      "540/540 [==============================] - 4s 7ms/step - loss: 0.0825 - accuracy: 0.9815 - val_loss: 0.1581 - val_accuracy: 0.9667\n",
      "Epoch 14/30\n",
      "540/540 [==============================] - 3s 6ms/step - loss: 0.0224 - accuracy: 0.9944 - val_loss: 0.0755 - val_accuracy: 0.9500\n",
      "Epoch 15/30\n",
      "540/540 [==============================] - 3s 6ms/step - loss: 0.0241 - accuracy: 0.9907 - val_loss: 0.0731 - val_accuracy: 0.9833\n",
      "Epoch 16/30\n",
      "540/540 [==============================] - 3s 6ms/step - loss: 0.0339 - accuracy: 0.9907 - val_loss: 0.0567 - val_accuracy: 0.9833\n",
      "Epoch 17/30\n",
      "540/540 [==============================] - 3s 6ms/step - loss: 0.0846 - accuracy: 0.9796 - val_loss: 0.3114 - val_accuracy: 0.9667\n",
      "Epoch 18/30\n",
      "540/540 [==============================] - 3s 6ms/step - loss: 0.0572 - accuracy: 0.9833 - val_loss: 0.2715 - val_accuracy: 0.9167\n",
      "Epoch 19/30\n",
      "540/540 [==============================] - 3s 6ms/step - loss: 0.0713 - accuracy: 0.9815 - val_loss: 0.0894 - val_accuracy: 0.9667\n",
      "Epoch 20/30\n",
      "540/540 [==============================] - 3s 6ms/step - loss: 0.0879 - accuracy: 0.9722 - val_loss: 0.5601 - val_accuracy: 0.8000\n",
      "Epoch 21/30\n",
      "540/540 [==============================] - 3s 6ms/step - loss: 0.1406 - accuracy: 0.9611 - val_loss: 0.3656 - val_accuracy: 0.9500\n",
      "Epoch 22/30\n",
      "540/540 [==============================] - 3s 6ms/step - loss: 0.0969 - accuracy: 0.9704 - val_loss: 5.3591 - val_accuracy: 0.4833\n",
      "Epoch 23/30\n",
      "540/540 [==============================] - 3s 6ms/step - loss: 0.0984 - accuracy: 0.9722 - val_loss: 0.7473 - val_accuracy: 0.9000\n",
      "Epoch 24/30\n",
      "540/540 [==============================] - 3s 6ms/step - loss: 0.2631 - accuracy: 0.9370 - val_loss: 1.1093 - val_accuracy: 0.7500\n",
      "Epoch 25/30\n",
      "540/540 [==============================] - 4s 7ms/step - loss: 0.0734 - accuracy: 0.9741 - val_loss: 2.3043 - val_accuracy: 0.6167\n",
      "Epoch 26/30\n",
      "540/540 [==============================] - 3s 6ms/step - loss: 0.0455 - accuracy: 0.9833 - val_loss: 0.1255 - val_accuracy: 0.9500\n",
      "Epoch 27/30\n",
      "540/540 [==============================] - 3s 6ms/step - loss: 0.0511 - accuracy: 0.9907 - val_loss: 0.1873 - val_accuracy: 0.9333\n",
      "Epoch 28/30\n",
      "540/540 [==============================] - 4s 7ms/step - loss: 0.0684 - accuracy: 0.9833 - val_loss: 0.0116 - val_accuracy: 1.0000\n",
      "Epoch 29/30\n",
      "540/540 [==============================] - 3s 6ms/step - loss: 0.0968 - accuracy: 0.9741 - val_loss: 0.1739 - val_accuracy: 0.9500\n",
      "Epoch 30/30\n",
      "540/540 [==============================] - 3s 6ms/step - loss: 0.1213 - accuracy: 0.9667 - val_loss: 0.0416 - val_accuracy: 0.9833\n"
     ]
    }
   ],
   "source": [
    "### IMPORTANT_START CODE HERE ### (1 line)\n",
    "history_dropout = happyModel.fit(x=X_train, y=Y_train, batch_size=16, epochs=30, validation_split = 0.1, shuffle = True)\n",
    "### IMPORTANT_END CODE HERE###"
   ]
  },
  {
   "cell_type": "markdown",
   "metadata": {},
   "source": [
    "## LOSSES PER EPOCHS"
   ]
  },
  {
   "cell_type": "code",
   "execution_count": 50,
   "metadata": {},
   "outputs": [
    {
     "data": {
      "image/png": "[encoded data removed]",
      "text/plain": [
       "<Figure size 432x288 with 1 Axes>"
      ]
     },
     "metadata": {
      "needs_background": "light"
     },
     "output_type": "display_data"
    }
   ],
   "source": [
    "loss = history_dropout.history['loss']\n",
    "val_loss = history_dropout.history['val_loss']\n",
    "epochs = range(1, len(loss) + 1)\n",
    "plt.plot(epochs, loss, 'y', label='Training loss')\n",
    "plt.plot(epochs, val_loss, 'r', label='Validation loss')\n",
    "plt.title('Training and validation loss')\n",
    "plt.xlabel('Epochs')\n",
    "plt.ylabel('Loss')\n",
    "plt.legend()\n",
    "plt.show()"
   ]
  },
  {
   "cell_type": "markdown",
   "metadata": {},
   "source": [
    "### ACCURACY PER EPOCHS"
   ]
  },
  {
   "cell_type": "code",
   "execution_count": 51,
   "metadata": {},
   "outputs": [
    {
     "data": {
      "image/png": "[encoded data removed]",
      "text/plain": [
       "<Figure size 432x288 with 1 Axes>"
      ]
     },
     "metadata": {
      "needs_background": "light"
     },
     "output_type": "display_data"
    }
   ],
   "source": [
    "acc = history_dropout.history['accuracy']\n",
    "val_acc = history_dropout.history['val_accuracy']\n",
    "plt.plot(epochs, acc, 'y', label='Training acc')\n",
    "plt.plot(epochs, val_acc, 'r', label='Validation acc')\n",
    "plt.title('Training and validation accuracy')\n",
    "plt.xlabel('Epochs')\n",
    "plt.ylabel('Accuracy')\n",
    "plt.legend()\n",
    "plt.show()"
   ]
  },
  {
   "cell_type": "markdown",
   "metadata": {},
   "source": [
    "#### Step 4: evaluate model  \n",
    "**Hint**:  \n",
    "Use the `'X_test'` and `'Y_test'` variables to evaluate the model's performance."
   ]
  },
  {
   "cell_type": "code",
   "execution_count": 52,
   "metadata": {
    "scrolled": true
   },
   "outputs": [
    {
     "name": "stdout",
     "output_type": "stream",
     "text": [
      "150/150 [==============================] - 0s 2ms/step\n",
      "\n",
      "Loss = 0.107040200928847\n",
      "Test Accuracy = 0.95333331823349\n"
     ]
    }
   ],
   "source": [
    "### IMPORTANT_START CODE HERE ### (1 line)\n",
    "preds = happyModel.evaluate(x=X_test, y=Y_test)\n",
    "### IMPORTANT_END CODE HERE ###\n",
    "print()\n",
    "print (\"Loss = \" + str(preds[0]))\n",
    "print (\"Test Accuracy = \" + str(preds[1]))"
   ]
  },
  {
   "cell_type": "markdown",
   "metadata": {},
   "source": [
    "#### Expected performance   \n",
    "If your `happyModel()` function worked, its accuracy should be better than random guessing (50% accuracy).\n",
    "\n",
    "To give you a point of comparison, our model gets around **95% test accuracy in 40 epochs** (and 99% train accuracy) with a mini batch size of 16 and \"adam\" optimizer."
   ]
  },
  {
   "cell_type": "markdown",
   "metadata": {},
   "source": [
    "#### Tips for improving model\n",
    "\n",
    "If we have not achieved a very good accuracy (>= 80%), here are some things tips:\n",
    "\n",
    "- Use blocks of CONV->BATCHNORM->RELU such as:\n",
    "```python\n",
    "X = Conv2D(32, (3, 3), strides = (1, 1), name = 'conv0')(X)\n",
    "X = BatchNormalization(axis = 3, name = 'bn0')(X)\n",
    "X = Activation('relu')(X)\n",
    "```\n",
    "until our height and width dimensions are quite low and our number of channels quite large (≈32 for example).  \n",
    "We can then flatten the volume and use a fully-connected layer.\n",
    "- Use MAXPOOL after such blocks.  It will help to lower the dimension in height and width.\n",
    "- Change optimizer. I find 'adam' works well. \n",
    "- If we get memory issues, lower our batch_size (e.g. 12 )\n",
    "- Run more epochs until we see the train accuracy no longer improves. \n",
    "\n",
    "**Note**: If we perform hyperparameter tuning on our model, the test set actually becomes a dev set, and our model might end up overfitting to the test (dev) set. Normally, We want to separate dev and test sets.The dev set is used for parameter tuning, and the test set is used once to estimate the model's performance in production."
   ]
  },
  {
   "cell_type": "markdown",
   "metadata": {},
   "source": [
    "## 3 - Conclusion\n",
    "\n",
    "Now, I have created a proof of concept for \"happiness detection\"!"
   ]
  },
  {
   "cell_type": "markdown",
   "metadata": {},
   "source": [
    "## Key Points to remember\n",
    "- Keras is a tool we recommend for rapid prototyping. It allows to quickly try out different model architectures.\n",
    "- Remember The four steps in Keras: \n",
    "\n",
    "\n",
    "1. Create  \n",
    "2. Compile  \n",
    "3. Fit/Train  \n",
    "4. Evaluate/Test  "
   ]
  },
  {
   "cell_type": "markdown",
   "metadata": {},
   "source": [
    "## 4 - Test with Unseen  image\n",
    "\n",
    "I now take a picture of someone face and see if it can classify whether The expression is \"happy\" or \"not happy\". To do that:\n",
    "\n",
    "\n",
    "The training/test sets were quite similar; for example, all the pictures were taken against the same background (since a front door camera is always mounted in the same position). This makes the problem easier, but a model trained on this data may or may not work on our own data. But I feel free to give it a try! "
   ]
  },
  {
   "cell_type": "code",
   "execution_count": 53,
   "metadata": {},
   "outputs": [
    {
     "name": "stdout",
     "output_type": "stream",
     "text": [
      "[[0.]]\n"
     ]
    },
    {
     "data": {
      "image/png": "[encoded data removed]",
      "text/plain": [
       "<Figure size 432x288 with 1 Axes>"
      ]
     },
     "metadata": {
      "needs_background": "light"
     },
     "output_type": "display_data"
    }
   ],
   "source": [
    "### IMPORTANT_START CODE HERE ###\n",
    "img_path = 'images/my_image.jpg'\n",
    "### IMPORTANT_END CODE HERE ###\n",
    "img = image.load_img(img_path, target_size=(64, 64))\n",
    "imshow(img)\n",
    "\n",
    "x = image.img_to_array(img)\n",
    "x = np.expand_dims(x, axis=0)\n",
    "x = preprocess_input(x)\n",
    "\n",
    "print(happyModel.predict(x))"
   ]
  },
  {
   "cell_type": "markdown",
   "metadata": {},
   "source": [
    "## 5 - Other useful functions in Keras \n",
    "\n",
    "Two other basic features of Keras that I find useful are:\n",
    "- `model.summary()`: prints the details of our layers in a table with the sizes of its inputs/outputs\n",
    "- `plot_model()`: plots our graph in a nice layout. We can even save it as \".png\" using SVG() if we'd like to share it on social media ;). \n",
    "\n",
    "Run the following code."
   ]
  },
  {
   "cell_type": "code",
   "execution_count": 54,
   "metadata": {
    "scrolled": false
   },
   "outputs": [
    {
     "name": "stdout",
     "output_type": "stream",
     "text": [
      "Model: \"HappyModel\"\n",
      "_________________________________________________________________\n",
      "Layer (type)                 Output Shape              Param #   \n",
      "=================================================================\n",
      "input_10 (InputLayer)        (None, 64, 64, 3)         0         \n",
      "_________________________________________________________________\n",
      "zero_padding2d_10 (ZeroPaddi (None, 70, 70, 3)         0         \n",
      "_________________________________________________________________\n",
      "conv0 (Conv2D)               (None, 64, 64, 32)        4736      \n",
      "_________________________________________________________________\n",
      "bn0 (BatchNormalization)     (None, 64, 64, 32)        128       \n",
      "_________________________________________________________________\n",
      "activation_10 (Activation)   (None, 64, 64, 32)        0         \n",
      "_________________________________________________________________\n",
      "dropout_6 (Dropout)          (None, 64, 64, 32)        0         \n",
      "_________________________________________________________________\n",
      "max_pool (MaxPooling2D)      (None, 32, 32, 32)        0         \n",
      "_________________________________________________________________\n",
      "flatten_8 (Flatten)          (None, 32768)             0         \n",
      "_________________________________________________________________\n",
      "fc (Dense)                   (None, 1)                 32769     \n",
      "=================================================================\n",
      "Total params: 37,633\n",
      "Trainable params: 37,569\n",
      "Non-trainable params: 64\n",
      "_________________________________________________________________\n"
     ]
    }
   ],
   "source": [
    "happyModel.summary()"
   ]
  },
  {
   "cell_type": "code",
   "execution_count": 55,
   "metadata": {},
   "outputs": [
    {
     "data": {
      "image/svg+xml": [
       "<svg height=\"839pt\" viewBox=\"0.00 0.00 226.00 629.00\" width=\"301pt\" xmlns=\"http://www.w3.org/2000/svg\" xmlns:xlink=\"http://www.w3.org/1999/xlink\">\n",
       "<g class=\"graph\" id=\"graph0\" transform=\"scale(1.33333 1.33333) rotate(0) translate(4 625)\">\n",
       "<title>G</title>\n",
       "<polygon fill=\"white\" points=\"-4,4 -4,-625 222,-625 222,4 -4,4\" stroke=\"none\"/>\n",
       "<!-- 140054548979472 -->\n",
       "<g class=\"node\" id=\"node1\"><title>140054548979472</title>\n",
       "<polygon fill=\"none\" points=\"43,-584.5 43,-620.5 175,-620.5 175,-584.5 43,-584.5\" stroke=\"black\"/>\n",
       "<text font-family=\"Times,serif\" font-size=\"14.00\" text-anchor=\"middle\" x=\"109\" y=\"-598.8\">input_10: InputLayer</text>\n",
       "</g>\n",
       "<!-- 140054548942736 -->\n",
       "<g class=\"node\" id=\"node2\"><title>140054548942736</title>\n",
       "<polygon fill=\"none\" points=\"0,-511.5 0,-547.5 218,-547.5 218,-511.5 0,-511.5\" stroke=\"black\"/>\n",
       "<text font-family=\"Times,serif\" font-size=\"14.00\" text-anchor=\"middle\" x=\"109\" y=\"-525.8\">zero_padding2d_10: ZeroPadding2D</text>\n",
       "</g>\n",
       "<!-- 140054548979472&#45;&gt;140054548942736 -->\n",
       "<g class=\"edge\" id=\"edge1\"><title>140054548979472-&gt;140054548942736</title>\n",
       "<path d=\"M109,-584.313C109,-576.289 109,-566.547 109,-557.569\" fill=\"none\" stroke=\"black\"/>\n",
       "<polygon fill=\"black\" points=\"112.5,-557.529 109,-547.529 105.5,-557.529 112.5,-557.529\" stroke=\"black\"/>\n",
       "</g>\n",
       "<!-- 140054548940624 -->\n",
       "<g class=\"node\" id=\"node3\"><title>140054548940624</title>\n",
       "<polygon fill=\"none\" points=\"57.5,-438.5 57.5,-474.5 160.5,-474.5 160.5,-438.5 57.5,-438.5\" stroke=\"black\"/>\n",
       "<text font-family=\"Times,serif\" font-size=\"14.00\" text-anchor=\"middle\" x=\"109\" y=\"-452.8\">conv0: Conv2D</text>\n",
       "</g>\n",
       "<!-- 140054548942736&#45;&gt;140054548940624 -->\n",
       "<g class=\"edge\" id=\"edge2\"><title>140054548942736-&gt;140054548940624</title>\n",
       "<path d=\"M109,-511.313C109,-503.289 109,-493.547 109,-484.569\" fill=\"none\" stroke=\"black\"/>\n",
       "<polygon fill=\"black\" points=\"112.5,-484.529 109,-474.529 105.5,-484.529 112.5,-484.529\" stroke=\"black\"/>\n",
       "</g>\n",
       "<!-- 140054548942224 -->\n",
       "<g class=\"node\" id=\"node4\"><title>140054548942224</title>\n",
       "<polygon fill=\"none\" points=\"31.5,-365.5 31.5,-401.5 186.5,-401.5 186.5,-365.5 31.5,-365.5\" stroke=\"black\"/>\n",
       "<text font-family=\"Times,serif\" font-size=\"14.00\" text-anchor=\"middle\" x=\"109\" y=\"-379.8\">bn0: BatchNormalization</text>\n",
       "</g>\n",
       "<!-- 140054548940624&#45;&gt;140054548942224 -->\n",
       "<g class=\"edge\" id=\"edge3\"><title>140054548940624-&gt;140054548942224</title>\n",
       "<path d=\"M109,-438.313C109,-430.289 109,-420.547 109,-411.569\" fill=\"none\" stroke=\"black\"/>\n",
       "<polygon fill=\"black\" points=\"112.5,-411.529 109,-401.529 105.5,-411.529 112.5,-411.529\" stroke=\"black\"/>\n",
       "</g>\n",
       "<!-- 140054548942672 -->\n",
       "<g class=\"node\" id=\"node5\"><title>140054548942672</title>\n",
       "<polygon fill=\"none\" points=\"31.5,-292.5 31.5,-328.5 186.5,-328.5 186.5,-292.5 31.5,-292.5\" stroke=\"black\"/>\n",
       "<text font-family=\"Times,serif\" font-size=\"14.00\" text-anchor=\"middle\" x=\"109\" y=\"-306.8\">activation_10: Activation</text>\n",
       "</g>\n",
       "<!-- 140054548942224&#45;&gt;140054548942672 -->\n",
       "<g class=\"edge\" id=\"edge4\"><title>140054548942224-&gt;140054548942672</title>\n",
       "<path d=\"M109,-365.313C109,-357.289 109,-347.547 109,-338.569\" fill=\"none\" stroke=\"black\"/>\n",
       "<polygon fill=\"black\" points=\"112.5,-338.529 109,-328.529 105.5,-338.529 112.5,-338.529\" stroke=\"black\"/>\n",
       "</g>\n",
       "<!-- 140054549662992 -->\n",
       "<g class=\"node\" id=\"node6\"><title>140054549662992</title>\n",
       "<polygon fill=\"none\" points=\"46.5,-219.5 46.5,-255.5 171.5,-255.5 171.5,-219.5 46.5,-219.5\" stroke=\"black\"/>\n",
       "<text font-family=\"Times,serif\" font-size=\"14.00\" text-anchor=\"middle\" x=\"109\" y=\"-233.8\">dropout_6: Dropout</text>\n",
       "</g>\n",
       "<!-- 140054548942672&#45;&gt;140054549662992 -->\n",
       "<g class=\"edge\" id=\"edge5\"><title>140054548942672-&gt;140054549662992</title>\n",
       "<path d=\"M109,-292.313C109,-284.289 109,-274.547 109,-265.569\" fill=\"none\" stroke=\"black\"/>\n",
       "<polygon fill=\"black\" points=\"112.5,-265.529 109,-255.529 105.5,-265.529 112.5,-265.529\" stroke=\"black\"/>\n",
       "</g>\n",
       "<!-- 140054549065296 -->\n",
       "<g class=\"node\" id=\"node7\"><title>140054549065296</title>\n",
       "<polygon fill=\"none\" points=\"27.5,-146.5 27.5,-182.5 190.5,-182.5 190.5,-146.5 27.5,-146.5\" stroke=\"black\"/>\n",
       "<text font-family=\"Times,serif\" font-size=\"14.00\" text-anchor=\"middle\" x=\"109\" y=\"-160.8\">max_pool: MaxPooling2D</text>\n",
       "</g>\n",
       "<!-- 140054549662992&#45;&gt;140054549065296 -->\n",
       "<g class=\"edge\" id=\"edge6\"><title>140054549662992-&gt;140054549065296</title>\n",
       "<path d=\"M109,-219.313C109,-211.289 109,-201.547 109,-192.569\" fill=\"none\" stroke=\"black\"/>\n",
       "<polygon fill=\"black\" points=\"112.5,-192.529 109,-182.529 105.5,-192.529 112.5,-192.529\" stroke=\"black\"/>\n",
       "</g>\n",
       "<!-- 140054548986960 -->\n",
       "<g class=\"node\" id=\"node8\"><title>140054548986960</title>\n",
       "<polygon fill=\"none\" points=\"54,-73.5 54,-109.5 164,-109.5 164,-73.5 54,-73.5\" stroke=\"black\"/>\n",
       "<text font-family=\"Times,serif\" font-size=\"14.00\" text-anchor=\"middle\" x=\"109\" y=\"-87.8\">flatten_8: Flatten</text>\n",
       "</g>\n",
       "<!-- 140054549065296&#45;&gt;140054548986960 -->\n",
       "<g class=\"edge\" id=\"edge7\"><title>140054549065296-&gt;140054548986960</title>\n",
       "<path d=\"M109,-146.313C109,-138.289 109,-128.547 109,-119.569\" fill=\"none\" stroke=\"black\"/>\n",
       "<polygon fill=\"black\" points=\"112.5,-119.529 109,-109.529 105.5,-119.529 112.5,-119.529\" stroke=\"black\"/>\n",
       "</g>\n",
       "<!-- 140054548998544 -->\n",
       "<g class=\"node\" id=\"node9\"><title>140054548998544</title>\n",
       "<polygon fill=\"none\" points=\"75,-0.5 75,-36.5 143,-36.5 143,-0.5 75,-0.5\" stroke=\"black\"/>\n",
       "<text font-family=\"Times,serif\" font-size=\"14.00\" text-anchor=\"middle\" x=\"109\" y=\"-14.8\">fc: Dense</text>\n",
       "</g>\n",
       "<!-- 140054548986960&#45;&gt;140054548998544 -->\n",
       "<g class=\"edge\" id=\"edge8\"><title>140054548986960-&gt;140054548998544</title>\n",
       "<path d=\"M109,-73.3129C109,-65.2895 109,-55.5475 109,-46.5691\" fill=\"none\" stroke=\"black\"/>\n",
       "<polygon fill=\"black\" points=\"112.5,-46.5288 109,-36.5288 105.5,-46.5289 112.5,-46.5288\" stroke=\"black\"/>\n",
       "</g>\n",
       "</g>\n",
       "</svg>"
      ],
      "text/plain": [
       "<IPython.core.display.SVG object>"
      ]
     },
     "execution_count": 55,
     "metadata": {},
     "output_type": "execute_result"
    }
   ],
   "source": [
    "plot_model(happyModel, to_file='HappyModel.png')\n",
    "SVG(model_to_dot(happyModel).create(prog='dot', format='svg'))"
   ]
  },
  {
   "cell_type": "code",
   "execution_count": null,
   "metadata": {
    "collapsed": true
   },
   "outputs": [],
   "source": []
  }
 ],
 "metadata": {
  "kernelspec": {
   "display_name": "Python 3",
   "language": "python",
   "name": "python3"
  },
  "language_info": {
   "codemirror_mode": {
    "name": "ipython",
    "version": 3
   },
   "file_extension": ".py",
   "mimetype": "text/x-python",
   "name": "python",
   "nbconvert_exporter": "python",
   "pygments_lexer": "ipython3",
   "version": "3.7.4"
  }
 },
 "nbformat": 4,
 "nbformat_minor": 2
}
